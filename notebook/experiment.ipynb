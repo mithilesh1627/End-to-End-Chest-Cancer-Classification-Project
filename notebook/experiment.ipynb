{
 "cells": [
  {
   "cell_type": "code",
   "execution_count": 1,
   "id": "f4f0dd0f",
   "metadata": {},
   "outputs": [],
   "source": [
    "import gdown "
   ]
  },
  {
   "cell_type": "code",
   "execution_count": 2,
   "id": "890a3f69",
   "metadata": {},
   "outputs": [],
   "source": [
    "url = \"https://drive.google.com/file/d/1xcmFkbhQ_P1PisDYhSrwqeuhUizaxLlX/view?usp=drive_link\""
   ]
  },
  {
   "cell_type": "code",
   "execution_count": 4,
   "id": "ab00029f",
   "metadata": {},
   "outputs": [],
   "source": [
    "file_id = url.split(\"/\")[5]"
   ]
  },
  {
   "cell_type": "code",
   "execution_count": 5,
   "id": "ab87e7a1",
   "metadata": {},
   "outputs": [
    {
     "data": {
      "text/plain": [
       "'1xcmFkbhQ_P1PisDYhSrwqeuhUizaxLlX'"
      ]
     },
     "execution_count": 5,
     "metadata": {},
     "output_type": "execute_result"
    }
   ],
   "source": [
    "file_id"
   ]
  },
  {
   "cell_type": "code",
   "execution_count": 14,
   "id": "5b69b283",
   "metadata": {},
   "outputs": [
    {
     "name": "stderr",
     "output_type": "stream",
     "text": [
      "Downloading...\n",
      "From (original): https://drive.google.com/uc?/export=download&id=1xcmFkbhQ_P1PisDYhSrwqeuhUizaxLlX\n",
      "From (redirected): https://drive.google.com/uc?%2Fexport=download&id=1xcmFkbhQ_P1PisDYhSrwqeuhUizaxLlX&confirm=t&uuid=4aaa4fd5-0b2c-460f-a64e-32f1aaf11e9a\n",
      "To: e:\\2025\\Pojects\\Chest-Cancer-Classification-using-MLflow-DVC\\notebook\\Chest_CT_Classfication_data.zip\n",
      "100%|██████████| 124M/124M [00:44<00:00, 2.81MB/s] \n"
     ]
    },
    {
     "data": {
      "text/plain": [
       "'Chest_CT_Classfication_data.zip'"
      ]
     },
     "execution_count": 14,
     "metadata": {},
     "output_type": "execute_result"
    }
   ],
   "source": [
    "prefix = f\"https://drive.google.com/uc?/export=download&id={file_id}\"\n",
    "gdown.download(url=prefix,output=\"Chest_CT_Classfication_data.zip\")"
   ]
  },
  {
   "cell_type": "code",
   "execution_count": null,
   "id": "1c68d475",
   "metadata": {},
   "outputs": [],
   "source": []
  }
 ],
 "metadata": {
  "kernelspec": {
   "display_name": ".venv",
   "language": "python",
   "name": "python3"
  },
  "language_info": {
   "codemirror_mode": {
    "name": "ipython",
    "version": 3
   },
   "file_extension": ".py",
   "mimetype": "text/x-python",
   "name": "python",
   "nbconvert_exporter": "python",
   "pygments_lexer": "ipython3",
   "version": "3.12.10"
  }
 },
 "nbformat": 4,
 "nbformat_minor": 5
}
