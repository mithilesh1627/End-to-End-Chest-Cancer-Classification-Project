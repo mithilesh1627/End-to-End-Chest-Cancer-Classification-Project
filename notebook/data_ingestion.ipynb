{
 "cells": [
  {
   "cell_type": "code",
   "execution_count": 1,
   "id": "f859c04b",
   "metadata": {},
   "outputs": [],
   "source": [
    "import os"
   ]
  },
  {
   "cell_type": "code",
   "execution_count": 2,
   "id": "f2435688",
   "metadata": {},
   "outputs": [],
   "source": [
    "os.chdir(\"../\")"
   ]
  },
  {
   "cell_type": "code",
   "execution_count": 3,
   "id": "289bd595",
   "metadata": {},
   "outputs": [],
   "source": [
    "from dataclasses import dataclass\n",
    "from pathlib import Path\n",
    "\n",
    "@dataclass(frozen=True)\n",
    "class DataIngestionConfig:\n",
    "    root_dir : Path\n",
    "    source_URL : Path\n",
    "    local_data_file : Path\n",
    "    unzip_dir : Path"
   ]
  },
  {
   "cell_type": "code",
   "execution_count": 4,
   "id": "ba4ea26c",
   "metadata": {},
   "outputs": [],
   "source": [
    "from CnnClassifier.constants import *\n",
    "from CnnClassifier.utils.common import read_yaml,create_directories"
   ]
  },
  {
   "cell_type": "code",
   "execution_count": 5,
   "id": "5457e894",
   "metadata": {},
   "outputs": [],
   "source": [
    "class ConfigurationManger:\n",
    "    def __init__(\n",
    "        self,\n",
    "        config_filepath =CONFIG_FILE_PATH,\n",
    "        params_filepath = PARAMS_FILE_PATH):\n",
    "    \n",
    "        self.config = read_yaml(config_filepath)\n",
    "        self.param = read_yaml(params_filepath)\n",
    "\n",
    "        create_directories([self.config.artifacts_root])\n",
    "    \n",
    "    def get_data_ingestion_config(self) -> DataIngestionConfig:\n",
    "        config = self.config.data_ingestion\n",
    "\n",
    "        create_directories([config.root_dir])\n",
    "\n",
    "        data_ingestion_config = DataIngestionConfig(\n",
    "            root_dir = config.root_dir,\n",
    "            source_URL= config.source_URL,\n",
    "            local_data_file=config.local_data_file,\n",
    "            unzip_dir = config.unzip_dir\n",
    "        )\n",
    "\n",
    "        return data_ingestion_config\n",
    "\n"
   ]
  },
  {
   "cell_type": "code",
   "execution_count": 6,
   "id": "ab06a89b",
   "metadata": {},
   "outputs": [],
   "source": [
    "\n",
    "import zipfile\n",
    "import gdown\n",
    "from CnnClassifier import logger\n",
    "from CnnClassifier.utils.common import get_size"
   ]
  },
  {
   "cell_type": "code",
   "execution_count": 7,
   "id": "56c38aa4",
   "metadata": {},
   "outputs": [],
   "source": [
    "class DataIngestion:\n",
    "    def __init__(self,config:DataIngestionConfig):\n",
    "        self.config = config\n",
    "\n",
    "    def download_file(self) -> str:\n",
    "        try:\n",
    "            dataset_url = self.config.source_URL\n",
    "            zip_download_dir = self.config.local_data_file\n",
    "            os.makedirs(\"artifacts/data_ingestion\",exist_ok=True)\n",
    "            logger.info(f\"Downloading data from {dataset_url} into file {zip_download_dir}\")\n",
    "\n",
    "            file_id = dataset_url.split(\"/\")[-2]\n",
    "            prefix = f\"https://drive.google.com/uc?/export=download&id={file_id}\"\n",
    "            gdown.download(url=prefix,output=f\"artifacts/data_ingestion/data.zip\")\n",
    "\n",
    "            logger.info(f\"Downloaded the data from {dataset_url} into file {zip_download_dir}\")\n",
    "        \n",
    "        except Exception as e :\n",
    "            raise e \n",
    "\n",
    "    def extract_zip_file(self):\n",
    "        unzip_path = self.config.unzip_dir\n",
    "        os.makedirs(unzip_path,exist_ok=True)\n",
    "        with zipfile.ZipFile(self.config.local_data_file,'r') as zip_ref:\n",
    "            zip_ref.extractall(unzip_path)"
   ]
  },
  {
   "cell_type": "code",
   "execution_count": 8,
   "id": "d78d5256",
   "metadata": {},
   "outputs": [
    {
     "name": "stdout",
     "output_type": "stream",
     "text": [
      "[2025-10-27 09:44:13,570 : INFO : common : yaml file: config\\config.yaml loaded successfully]\n",
      "[2025-10-27 09:44:13,575 : INFO : common : yaml file: params.yaml loaded successfully]\n",
      "[2025-10-27 09:44:13,578 : INFO : common : created directory at : artifacts]\n",
      "[2025-10-27 09:44:13,581 : INFO : common : created directory at : artifacts/data_ingestion]\n",
      "[2025-10-27 09:44:13,584 : INFO : 3702322914 : Downloading data from https://drive.google.com/file/d/1xcmFkbhQ_P1PisDYhSrwqeuhUizaxLlX/view?usp=drive_link into file artifacts/data_ingestion/data.zip]\n"
     ]
    },
    {
     "name": "stderr",
     "output_type": "stream",
     "text": [
      "Downloading...\n",
      "From (original): https://drive.google.com/uc?/export=download&id=1xcmFkbhQ_P1PisDYhSrwqeuhUizaxLlX\n",
      "From (redirected): https://drive.google.com/uc?%2Fexport=download&id=1xcmFkbhQ_P1PisDYhSrwqeuhUizaxLlX&confirm=t&uuid=1036bc57-83df-4762-8828-a61e90131d16\n",
      "To: e:\\2025\\Pojects\\Chest-Cancer-Classification-using-MLflow-DVC\\artifacts\\data_ingestion\\data.zip\n",
      "100%|██████████| 124M/124M [01:02<00:00, 2.00MB/s] "
     ]
    },
    {
     "name": "stdout",
     "output_type": "stream",
     "text": [
      "[2025-10-27 09:45:20,863 : INFO : 3702322914 : Downloaded the data from https://drive.google.com/file/d/1xcmFkbhQ_P1PisDYhSrwqeuhUizaxLlX/view?usp=drive_link into file artifacts/data_ingestion/data.zip]\n"
     ]
    },
    {
     "name": "stderr",
     "output_type": "stream",
     "text": [
      "\n"
     ]
    }
   ],
   "source": [
    "try:\n",
    "    config = ConfigurationManger()\n",
    "    data_ingestion_config = config.get_data_ingestion_config()\n",
    "    data_ingestion = DataIngestion(config=data_ingestion_config)\n",
    "    data_ingestion.download_file()\n",
    "    data_ingestion.extract_zip_file()\n",
    "\n",
    "except Exception as e :\n",
    "    raise e"
   ]
  },
  {
   "cell_type": "code",
   "execution_count": null,
   "id": "1cb5c7f2",
   "metadata": {},
   "outputs": [],
   "source": []
  }
 ],
 "metadata": {
  "kernelspec": {
   "display_name": ".venv_tf",
   "language": "python",
   "name": "python3"
  },
  "language_info": {
   "codemirror_mode": {
    "name": "ipython",
    "version": 3
   },
   "file_extension": ".py",
   "mimetype": "text/x-python",
   "name": "python",
   "nbconvert_exporter": "python",
   "pygments_lexer": "ipython3",
   "version": "3.10.0"
  }
 },
 "nbformat": 4,
 "nbformat_minor": 5
}
